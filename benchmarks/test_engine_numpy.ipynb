{
 "cells": [
  {
   "cell_type": "code",
   "execution_count": 1,
   "metadata": {},
   "outputs": [],
   "source": [
    "from collections import OrderedDict\n",
    "\n",
    "import numpy as np\n",
    "import pandas as pd\n",
    "import pytest\n",
    "from scipy.special import expit as inv_logit\n",
    "from scipy.stats import bernoulli\n",
    "\n",
    "from adopy import Engine, Model, Task"
   ]
  },
  {
   "cell_type": "code",
   "execution_count": 2,
   "metadata": {},
   "outputs": [],
   "source": [
    "task = Task(\n",
    "    name='Psychometric function estimation',\n",
    "    designs=['stimulus'],\n",
    "    responses=['choice'],\n",
    ")"
   ]
  },
  {
   "cell_type": "code",
   "execution_count": 3,
   "metadata": {},
   "outputs": [],
   "source": [
    "def func_logistic_log_lik(choice, stimulus,\n",
    "                          guess_rate, lapse_rate, threshold, slope):\n",
    "    f = inv_logit(slope * (stimulus - threshold))\n",
    "    p = guess_rate + (1 - guess_rate - lapse_rate) * f\n",
    "    return bernoulli.logpmf(choice, p)\n",
    "\n",
    "\n",
    "model = Model(\n",
    "    name='Logistic',\n",
    "    task=task,\n",
    "    params=['guess_rate', 'lapse_rate', 'threshold', 'slope'],\n",
    "    func=func_logistic_log_lik,\n",
    ")"
   ]
  },
  {
   "cell_type": "code",
   "execution_count": 4,
   "metadata": {},
   "outputs": [],
   "source": [
    "grid_design = {\n",
    "    'stimulus': np.linspace(20 * np.log10(.05), 20 * np.log10(400), 100)\n",
    "}\n",
    "\n",
    "grid_param = {\n",
    "    'threshold': np.linspace(20 * np.log10(.1), 20 * np.log10(200), 100),\n",
    "    'slope': np.linspace(0, 10, 101)[0:],\n",
    "    'guess_rate': [0.5],\n",
    "    'lapse_rate': [0.05],\n",
    "}\n",
    "\n",
    "grid_response = {'choice': [0, 1]}"
   ]
  },
  {
   "cell_type": "code",
   "execution_count": 5,
   "metadata": {},
   "outputs": [
    {
     "name": "stdout",
     "output_type": "stream",
     "text": [
      "CPU times: user 304 ms, sys: 49.2 ms, total: 353 ms\n",
      "Wall time: 389 ms\n"
     ]
    }
   ],
   "source": [
    "%%time\n",
    "engine = Engine(\n",
    "    task=task,\n",
    "    model=model,\n",
    "    grid_design=grid_design,\n",
    "    grid_param=grid_param,\n",
    "    grid_response=grid_response,\n",
    ")"
   ]
  },
  {
   "cell_type": "code",
   "execution_count": 6,
   "metadata": {},
   "outputs": [
    {
     "name": "stdout",
     "output_type": "stream",
     "text": [
      "CPU times: user 545 µs, sys: 29 µs, total: 574 µs\n",
      "Wall time: 574 µs\n"
     ]
    }
   ],
   "source": [
    "%time d = engine.get_design()"
   ]
  },
  {
   "cell_type": "code",
   "execution_count": 7,
   "metadata": {},
   "outputs": [
    {
     "name": "stdout",
     "output_type": "stream",
     "text": [
      "135 µs ± 20 µs per loop (mean ± std. dev. of 7 runs, 10000 loops each)\n"
     ]
    }
   ],
   "source": [
    "%timeit d = engine.get_design()"
   ]
  },
  {
   "cell_type": "code",
   "execution_count": 8,
   "metadata": {},
   "outputs": [],
   "source": [
    "d = engine.get_design()"
   ]
  },
  {
   "cell_type": "code",
   "execution_count": 9,
   "metadata": {},
   "outputs": [
    {
     "name": "stdout",
     "output_type": "stream",
     "text": [
      "CPU times: user 51.8 ms, sys: 3.34 ms, total: 55.2 ms\n",
      "Wall time: 54.5 ms\n"
     ]
    }
   ],
   "source": [
    "%time engine.update(d, 1)"
   ]
  },
  {
   "cell_type": "code",
   "execution_count": 10,
   "metadata": {},
   "outputs": [
    {
     "name": "stdout",
     "output_type": "stream",
     "text": [
      "66.8 ms ± 24.6 ms per loop (mean ± std. dev. of 7 runs, 10 loops each)\n"
     ]
    }
   ],
   "source": [
    "%timeit engine.update(d, 1)"
   ]
  }
 ],
 "metadata": {
  "kernelspec": {
   "display_name": "Python 3",
   "language": "python",
   "name": "python3"
  },
  "language_info": {
   "codemirror_mode": {
    "name": "ipython",
    "version": 3
   },
   "file_extension": ".py",
   "mimetype": "text/x-python",
   "name": "python",
   "nbconvert_exporter": "python",
   "pygments_lexer": "ipython3",
   "version": "3.8.6"
  }
 },
 "nbformat": 4,
 "nbformat_minor": 4
}
