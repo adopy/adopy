{
 "cells": [
  {
   "cell_type": "code",
   "execution_count": 1,
   "id": "dfa7ab14-487d-404b-9156-9181a00d7b9b",
   "metadata": {},
   "outputs": [
    {
     "name": "stderr",
     "output_type": "stream",
     "text": [
      "/Users/pluvian/Library/Caches/pypoetry/virtualenvs/adopy-MkuPcPyy-py3.10/lib/python3.10/site-packages/jax/_src/lib/__init__.py:33: UserWarning: JAX on Mac ARM machines is experimental and minimally tested. Please see https://github.com/google/jax/issues/5501 in the event of problems.\n",
      "  warnings.warn(\"JAX on Mac ARM machines is experimental and minimally tested. \"\n"
     ]
    }
   ],
   "source": [
    "import numpy as np\n",
    "import jax\n",
    "from jax import numpy as jnp\n",
    "from jax import scipy as jsp\n",
    "from adopy.base import GridSpace, Task, Model, Engine"
   ]
  },
  {
   "cell_type": "code",
   "execution_count": 2,
   "id": "e304850a-715b-4957-8ef8-1b80a7316d70",
   "metadata": {},
   "outputs": [],
   "source": [
    "def make_grid_design():\n",
    "    # p_var & a_var for risky & ambiguous trials\n",
    "    pval = [.05, .10, .15, .20, .25, .30, .35, .40, .45]\n",
    "    aval = [.125, .25, .375, .5, .625, .75]\n",
    "\n",
    "    # risky trials: a_var fixed to 0\n",
    "    pa_risky = [[p, 0] for p in pval]\n",
    "    # ambiguous trials: p_var fixed to 0.5\n",
    "    pa_ambig = [[0.5, a] for a in aval]\n",
    "    pr_am = np.array(pa_risky + pa_ambig)\n",
    "\n",
    "    # r_var & r_fix while r_var > r_fix\n",
    "    rval = [10, 15, 21, 31, 45, 66, 97, 141, 206, 300]\n",
    "    rewards = []\n",
    "    for r_var in rval:\n",
    "        for r_fix in rval:\n",
    "            if r_var > r_fix:\n",
    "                rewards.append([r_var, r_fix])\n",
    "    rewards = np.array(rewards)\n",
    "\n",
    "    return GridSpace({('p_var', 'a_var'): pr_am, ('r_var', 'r_fix'): rewards})\n",
    "\n",
    "\n",
    "def make_grid_param():\n",
    "    alp = np.linspace(0, 3, 11)\n",
    "    bet = np.linspace(-3, 3, 11)\n",
    "    gam = np.linspace(0, 5, 11)\n",
    "    return GridSpace(dict(alpha=alp, beta=bet, gamma=gam))\n",
    "\n",
    "\n",
    "def make_grid_response():\n",
    "    return GridSpace({'choice': [0, 1]})\n",
    "\n",
    "\n",
    "class ModelLinear(Model):\n",
    "    @staticmethod\n",
    "    @jax.jit\n",
    "    def compute(choice, p_var, a_var, r_var, r_fix, alpha, beta, gamma):\n",
    "        sv_var = jnp.power(r_var, alpha)\n",
    "        sv_var = (p_var - beta * jnp.divide(a_var, 2)) * sv_var\n",
    "        sv_fix = 0.5 * jnp.power(r_fix, alpha)\n",
    "        p_obs = 1. / (1. + jnp.exp(-gamma * (sv_var - sv_fix)))\n",
    "        return jsp.stats.bernoulli.logpmf(choice, p_obs)"
   ]
  },
  {
   "cell_type": "code",
   "execution_count": 3,
   "id": "b66d8990-64c3-4337-9a94-1c2e16185870",
   "metadata": {},
   "outputs": [
    {
     "name": "stderr",
     "output_type": "stream",
     "text": [
      "WARNING:absl:No GPU/TPU found, falling back to CPU. (Set TF_CPP_MIN_LOG_LEVEL=0 and rerun for more info.)\n"
     ]
    }
   ],
   "source": [
    "grid_design = make_grid_design()\n",
    "grid_param = make_grid_param()\n",
    "grid_response = make_grid_response()\n",
    "\n",
    "task = Task(\n",
    "    name='Choice under risk and ambiguity',\n",
    "    designs=['p_var', 'a_var', 'r_var', 'r_fix'],\n",
    "    responses=['choice'],\n",
    "    grid_design=grid_design,\n",
    "    grid_response=grid_response)\n",
    "\n",
    "model = ModelLinear(\n",
    "    name='Linear model',\n",
    "    task=task,\n",
    "    params=['alpha', 'beta', 'gamma'],\n",
    "    grid_param=grid_param)"
   ]
  },
  {
   "cell_type": "code",
   "execution_count": 4,
   "id": "153fafd7-9891-4dbd-bfbb-b2356e0eb4ed",
   "metadata": {},
   "outputs": [
    {
     "name": "stdout",
     "output_type": "stream",
     "text": [
      "CPU times: user 1 µs, sys: 0 ns, total: 1 µs\n",
      "Wall time: 3.1 µs\n"
     ]
    }
   ],
   "source": [
    "%time\n",
    "engine = Engine(task=task, model=model)"
   ]
  },
  {
   "cell_type": "code",
   "execution_count": 5,
   "id": "f220d327-9be7-4a0a-aab4-5744a23ee153",
   "metadata": {},
   "outputs": [
    {
     "name": "stdout",
     "output_type": "stream",
     "text": [
      "7.62 ms ± 104 µs per loop (mean ± std. dev. of 7 runs, 100 loops each)\n"
     ]
    }
   ],
   "source": [
    "%%timeit\n",
    "d = engine.get_design()\n",
    "y = np.random.randint(0, 1)\n",
    "engine.update(d, {'choice': y})"
   ]
  }
 ],
 "metadata": {
  "kernelspec": {
   "display_name": "Python 3 (ipykernel)",
   "language": "python",
   "name": "python3"
  },
  "language_info": {
   "codemirror_mode": {
    "name": "ipython",
    "version": 3
   },
   "file_extension": ".py",
   "mimetype": "text/x-python",
   "name": "python",
   "nbconvert_exporter": "python",
   "pygments_lexer": "ipython3",
   "version": "3.10.2"
  }
 },
 "nbformat": 4,
 "nbformat_minor": 5
}
