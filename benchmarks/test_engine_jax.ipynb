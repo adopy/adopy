{
 "cells": [
  {
   "cell_type": "code",
   "execution_count": 1,
   "metadata": {},
   "outputs": [],
   "source": [
    "import numpy as np\n",
    "import pandas as pd\n",
    "\n",
    "from adopy.base import JaxEngineV1"
   ]
  },
  {
   "cell_type": "code",
   "execution_count": 2,
   "metadata": {},
   "outputs": [],
   "source": [
    "import jax\n",
    "from jax.scipy.special import expit as inv_logit\n",
    "from jax.scipy.stats import bernoulli"
   ]
  },
  {
   "cell_type": "code",
   "execution_count": 3,
   "metadata": {},
   "outputs": [],
   "source": [
    "@jax.jit\n",
    "def func_logistic_log_lik(choice, stimulus, guess_rate, lapse_rate, threshold, slope):\n",
    "    f = inv_logit(slope * (stimulus - threshold))\n",
    "    p = guess_rate + (1 - guess_rate - lapse_rate) * f\n",
    "    return bernoulli.logpmf(choice, p)"
   ]
  },
  {
   "cell_type": "code",
   "execution_count": 4,
   "metadata": {},
   "outputs": [],
   "source": [
    "grid_design = {\n",
    "    'stimulus': np.linspace(20 * np.log10(.05), 20 * np.log10(400), 100)\n",
    "}\n",
    "\n",
    "grid_param = {\n",
    "    'threshold': np.linspace(20 * np.log10(.1), 20 * np.log10(200), 100),\n",
    "    'slope': np.linspace(0, 10, 101)[0:],\n",
    "    'guess_rate': [0.5],\n",
    "    'lapse_rate': [0.05],\n",
    "}\n",
    "\n",
    "grid_response = {'choice': [0, 1]}"
   ]
  },
  {
   "cell_type": "code",
   "execution_count": 5,
   "metadata": {},
   "outputs": [
    {
     "name": "stderr",
     "output_type": "stream",
     "text": [
      "WARNING:absl:No GPU/TPU found, falling back to CPU. (Set TF_CPP_MIN_LOG_LEVEL=0 and rerun for more info.)\n"
     ]
    },
    {
     "name": "stdout",
     "output_type": "stream",
     "text": [
      "CPU times: user 1.23 s, sys: 60.3 ms, total: 1.29 s\n",
      "Wall time: 1.56 s\n"
     ]
    }
   ],
   "source": [
    "%%time\n",
    "engine = JaxEngineV1(\n",
    "    designs=['stimulus'],\n",
    "    parameters=['guess_rate', 'lapse_rate', 'threshold', 'slope'],\n",
    "    responses=['choice'],\n",
    "    model_func=func_logistic_log_lik,\n",
    "    grid_design=grid_design,\n",
    "    grid_param=grid_param,\n",
    "    grid_response=grid_response,\n",
    ")"
   ]
  },
  {
   "cell_type": "code",
   "execution_count": 6,
   "metadata": {},
   "outputs": [
    {
     "name": "stdout",
     "output_type": "stream",
     "text": [
      "CPU times: user 68.9 ms, sys: 4.71 ms, total: 73.6 ms\n",
      "Wall time: 103 ms\n"
     ]
    }
   ],
   "source": [
    "%time d = engine.get_design()"
   ]
  },
  {
   "cell_type": "code",
   "execution_count": 7,
   "metadata": {},
   "outputs": [
    {
     "name": "stdout",
     "output_type": "stream",
     "text": [
      "1.09 ms ± 291 µs per loop (mean ± std. dev. of 7 runs, 1000 loops each)\n"
     ]
    }
   ],
   "source": [
    "%timeit d = engine.get_design()"
   ]
  },
  {
   "cell_type": "code",
   "execution_count": 8,
   "metadata": {},
   "outputs": [
    {
     "name": "stdout",
     "output_type": "stream",
     "text": [
      "CPU times: user 273 ms, sys: 16.4 ms, total: 289 ms\n",
      "Wall time: 319 ms\n"
     ]
    }
   ],
   "source": [
    "%time engine.update(d, 1)"
   ]
  },
  {
   "cell_type": "code",
   "execution_count": 9,
   "metadata": {},
   "outputs": [
    {
     "name": "stdout",
     "output_type": "stream",
     "text": [
      "12 ms ± 266 µs per loop (mean ± std. dev. of 7 runs, 100 loops each)\n"
     ]
    }
   ],
   "source": [
    "%timeit engine.update(d, 1)"
   ]
  },
  {
   "cell_type": "markdown",
   "metadata": {},
   "source": [
    "## Once compiled"
   ]
  },
  {
   "cell_type": "code",
   "execution_count": 10,
   "metadata": {},
   "outputs": [
    {
     "name": "stdout",
     "output_type": "stream",
     "text": [
      "CPU times: user 1.93 ms, sys: 838 µs, total: 2.77 ms\n",
      "Wall time: 2.5 ms\n"
     ]
    }
   ],
   "source": [
    "%time d = engine.get_design()"
   ]
  },
  {
   "cell_type": "code",
   "execution_count": 11,
   "metadata": {},
   "outputs": [
    {
     "name": "stdout",
     "output_type": "stream",
     "text": [
      "CPU times: user 21.7 ms, sys: 3.41 ms, total: 25.1 ms\n",
      "Wall time: 26.4 ms\n"
     ]
    }
   ],
   "source": [
    "%time engine.update(d, 1)"
   ]
  }
 ],
 "metadata": {
  "kernelspec": {
   "display_name": "Python 3",
   "language": "python",
   "name": "python3"
  },
  "language_info": {
   "codemirror_mode": {
    "name": "ipython",
    "version": 3
   },
   "file_extension": ".py",
   "mimetype": "text/x-python",
   "name": "python",
   "nbconvert_exporter": "python",
   "pygments_lexer": "ipython3",
   "version": "3.8.6"
  }
 },
 "nbformat": 4,
 "nbformat_minor": 4
}
