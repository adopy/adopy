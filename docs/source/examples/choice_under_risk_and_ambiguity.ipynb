{
 "cells": [
  {
   "cell_type": "markdown",
   "metadata": {
    "slideshow": {
     "slide_type": "slide"
    }
   },
   "source": [
    "# Choice under risk and ambiguity task\n",
    "\n",
    "Levy, I., Snell, J., Nelson, A. J., Rustichini, A., & Glimcher, P. W. (2010). Neural Representation of Subjective Value Under Risk and Ambiguity. *Journal of Neurophysiology, 103*(2), 1036-1047.\n",
    "\n",
    "<center>\n",
    "    <figure>\n",
    "        <img src=\"./images/cra-thumbnail.png\"\n",
    "             alt=\"Overview of the choice under risk and ambiguity task.\"\n",
    "             width=\"500px\">\n",
    "        <figcaption>Overview of the choice under risk and ambiguity task.</figcaption>\n",
    "    </figure>\n",
    "</center>"
   ]
  },
  {
   "cell_type": "markdown",
   "metadata": {},
   "source": [
    "## 1. Initializion"
   ]
  },
  {
   "cell_type": "markdown",
   "metadata": {
    "slideshow": {
     "slide_type": "slide"
    }
   },
   "source": [
    "### 1) Task: Choice under risk and ambiguity\n",
    "\n",
    "<center>\n",
    "    <figure>\n",
    "        <img src=\"./images/cra-design.png\"\n",
    "             align=\"center\"\n",
    "             width=\"320px\">\n",
    "        <figcaption>Design variables for the choice under risk and ambiguity task.</figcaption>\n",
    "    </figure>\n",
    "</center>\n",
    "\n",
    "- **Design variables**\n",
    "    - `p_var` ($p_V$): the probability to win the reward of the variable option\n",
    "        - Fixed to 0.5 for ambiguous trials\n",
    "    - `a_var` ($A_V$): the level of ambiguity of the variable option\n",
    "        - Fixed to 0 for risky trials\n",
    "    - `r_var` ($R_V$): the amount of reward of the variable option\n",
    "    - `r_fix` ($R_F$): the amount of reward of the fixed option\n",
    "- **Response variable**:\n",
    "    - `choice`: `0` (fixed option), `1` (variable option)"
   ]
  },
  {
   "cell_type": "code",
   "execution_count": 1,
   "metadata": {
    "slideshow": {
     "slide_type": "subslide"
    }
   },
   "outputs": [],
   "source": [
    "from adopy.tasks.cra import TaskCRA\n",
    "\n",
    "task = TaskCRA()"
   ]
  },
  {
   "cell_type": "code",
   "execution_count": 2,
   "metadata": {},
   "outputs": [
    {
     "data": {
      "text/plain": [
       "'Choice under risk and ambiguity task'"
      ]
     },
     "execution_count": 2,
     "metadata": {},
     "output_type": "execute_result"
    }
   ],
   "source": [
    "task.name"
   ]
  },
  {
   "cell_type": "code",
   "execution_count": 3,
   "metadata": {},
   "outputs": [
    {
     "data": {
      "text/plain": [
       "['p_var', 'a_var', 'r_var', 'r_fix']"
      ]
     },
     "execution_count": 3,
     "metadata": {},
     "output_type": "execute_result"
    }
   ],
   "source": [
    "task.designs"
   ]
  },
  {
   "cell_type": "code",
   "execution_count": 4,
   "metadata": {},
   "outputs": [
    {
     "data": {
      "text/plain": [
       "['choice']"
      ]
     },
     "execution_count": 4,
     "metadata": {},
     "output_type": "execute_result"
    }
   ],
   "source": [
    "task.responses"
   ]
  },
  {
   "cell_type": "markdown",
   "metadata": {
    "slideshow": {
     "slide_type": "slide"
    }
   },
   "source": [
    "### 2) Model: Linear model\n",
    "\n",
    "$$\n",
    "\\begin{aligned}\n",
    "    U_F &= 0.5 \\cdot (R_F) ^\\alpha \\\\\n",
    "    U_V &= \\left[ p_V - \\beta \\cdot \\frac{A_V}{2} \\right] \\cdot (R_V) ^\\alpha \\\\\n",
    "    P(V\\, over \\, F) &= \\frac{1}{1 + \\exp [\\gamma (U_F - U_V)]}\n",
    "\\end{aligned}\n",
    "$$\n",
    "\n",
    "- **Model parameters**\n",
    "    - `alpha` ($\\alpha$): risk attitude parameter\n",
    "    - `beta` ($\\beta$): ambiguity attitude parameter\n",
    "    - `gamma` ($\\gamma$): inverse temperature"
   ]
  },
  {
   "cell_type": "code",
   "execution_count": 5,
   "metadata": {
    "slideshow": {
     "slide_type": "subslide"
    }
   },
   "outputs": [],
   "source": [
    "from adopy.tasks.cra import ModelLinear\n",
    "\n",
    "model = ModelLinear()"
   ]
  },
  {
   "cell_type": "code",
   "execution_count": 6,
   "metadata": {},
   "outputs": [
    {
     "data": {
      "text/plain": [
       "'Linear model for the CRA task'"
      ]
     },
     "execution_count": 6,
     "metadata": {},
     "output_type": "execute_result"
    }
   ],
   "source": [
    "model.name"
   ]
  },
  {
   "cell_type": "code",
   "execution_count": 7,
   "metadata": {},
   "outputs": [
    {
     "data": {
      "text/plain": [
       "['alpha', 'beta', 'gamma']"
      ]
     },
     "execution_count": 7,
     "metadata": {},
     "output_type": "execute_result"
    }
   ],
   "source": [
    "model.params"
   ]
  },
  {
   "cell_type": "markdown",
   "metadata": {
    "slideshow": {
     "slide_type": "slide"
    }
   },
   "source": [
    "### 3) Grid definition"
   ]
  },
  {
   "cell_type": "markdown",
   "metadata": {
    "slideshow": {
     "slide_type": ""
    }
   },
   "source": [
    "#### Grid for design variables"
   ]
  },
  {
   "cell_type": "code",
   "execution_count": 8,
   "metadata": {},
   "outputs": [],
   "source": [
    "import numpy as np\n",
    "\n",
    "# Rewards\n",
    "r_var = [5, 9.5, 18, 26, 34, 50, 65, 95, 131, 181, 250]\n",
    "r_fix = [5, 7, 10, 13, 18, 25, 34, 48, 66, 91, 125]\n",
    "\n",
    "rewards = np.array([\n",
    "    [rv, rf] for rv in r_var for rf in r_fix if rv > rf\n",
    "])\n",
    "\n",
    "# Prob & Ambig (Risky trials)\n",
    "p_var_risky = [.13, .25, .38]\n",
    "pa_risky = np.array([[pr, 0] for pr in p_var_risky])\n",
    "\n",
    "# Prob & Ambig (Ambiguous trials)\n",
    "a_var_ambig = [.25, .5, .75]\n",
    "pa_ambig = np.array([[0.5, am] for am in a_var_ambig])\n",
    "\n",
    "# Prob & Ambig\n",
    "pr_am = np.vstack([pa_risky, pa_ambig])\n",
    "\n",
    "grid_design = {('p_var', 'a_var'): pr_am, ('r_var', 'r_fix'): rewards}"
   ]
  },
  {
   "cell_type": "markdown",
   "metadata": {
    "slideshow": {
     "slide_type": "subslide"
    }
   },
   "source": [
    "#### Grid for model parameters"
   ]
  },
  {
   "cell_type": "code",
   "execution_count": 9,
   "metadata": {
    "slideshow": {
     "slide_type": ""
    }
   },
   "outputs": [],
   "source": [
    "grid_param = {\n",
    "    'alpha': np.linspace(0, 3, 11)[1:],\n",
    "    'beta': np.linspace(-3, 3, 11),\n",
    "    'gamma': np.linspace(0, 5, 11)[1:]\n",
    "}"
   ]
  },
  {
   "cell_type": "markdown",
   "metadata": {},
   "source": [
    "#### Grid for response variables"
   ]
  },
  {
   "cell_type": "code",
   "execution_count": 10,
   "metadata": {},
   "outputs": [],
   "source": [
    "grid_response = {\n",
    "    'choice': [0, 1]\n",
    "}"
   ]
  },
  {
   "cell_type": "markdown",
   "metadata": {
    "slideshow": {
     "slide_type": "subslide"
    }
   },
   "source": [
    "### 4) Engine initialization"
   ]
  },
  {
   "cell_type": "code",
   "execution_count": 11,
   "metadata": {
    "slideshow": {
     "slide_type": ""
    }
   },
   "outputs": [],
   "source": [
    "from adopy import Engine\n",
    "\n",
    "engine = Engine(task, model, grid_design, grid_param, grid_response)"
   ]
  },
  {
   "cell_type": "markdown",
   "metadata": {
    "slideshow": {
     "slide_type": "slide"
    }
   },
   "source": [
    "## 2. Design comparison\n",
    "\n",
    "1. **ADO design**\n",
    "2. **Fixed design**, used by Levy et al. (2010)\n",
    "3. **Random design**\n",
    "\n",
    "<center>\n",
    "    <figure>\n",
    "        <img src=\"./images/cra-design-fixed.png\" width=\"500px\">\n",
    "        <figcaption>Fixed design - design pairs used by Levy et al. (2010).</figcaption>\n",
    "    </figure>\n",
    "</center>"
   ]
  },
  {
   "cell_type": "code",
   "execution_count": 12,
   "metadata": {},
   "outputs": [],
   "source": [
    "N_TRIAL = 60"
   ]
  },
  {
   "cell_type": "markdown",
   "metadata": {
    "slideshow": {
     "slide_type": "slide"
    }
   },
   "source": [
    "### Functions\n",
    "\n",
    "#### Simulate a response"
   ]
  },
  {
   "cell_type": "code",
   "execution_count": 13,
   "metadata": {},
   "outputs": [],
   "source": [
    "# True parameter values to simulate responses\n",
    "PARAM_TRUE = {'alpha': 0.67, 'beta': 0.66, 'gamma': 1.5}"
   ]
  },
  {
   "cell_type": "code",
   "execution_count": 14,
   "metadata": {
    "slideshow": {
     "slide_type": ""
    }
   },
   "outputs": [],
   "source": [
    "from scipy.stats import bernoulli\n",
    "\n",
    "def get_simulated_response(design):\n",
    "    # Calculate the probability to choose a variable option\n",
    "    p_var, a_var, r_var, r_fix = (\n",
    "        design['p_var'], design['a_var'], design['r_var'], design['r_fix']\n",
    "    )\n",
    "    alpha, beta, gamma = PARAM_TRUE['alpha'], PARAM_TRUE['beta'], PARAM_TRUE['gamma']\n",
    "    \n",
    "    u_fix = 0.5 * np.power(r_fix, alpha)\n",
    "    u_var = (p_var - beta * a_var / 2) * np.power(r_var, alpha)\n",
    "    \n",
    "    p_obs = 1 / (1 + np.exp(-gamma * (u_var - u_fix)))\n",
    "\n",
    "    # Randomly sample a binary choice response from Bernoulli distribution\n",
    "    return bernoulli.rvs(p_obs)"
   ]
  },
  {
   "cell_type": "markdown",
   "metadata": {},
   "source": [
    "#### Generate design pairs for the fixed design (Levy et al., 2010)"
   ]
  },
  {
   "cell_type": "code",
   "execution_count": 15,
   "metadata": {
    "slideshow": {
     "slide_type": "subslide"
    }
   },
   "outputs": [],
   "source": [
    "import pandas as pd\n",
    "\n",
    "def generate_fixed_designs():\n",
    "    \"\"\"Generate design pairs used by Levy et al. (2010)\"\"\"\n",
    "    # Prob & Ambig\n",
    "    pa_risky = [(.5, a_var) for a_var in [.13, .25, .38]]  # for risky conditions\n",
    "    pa_ambig = [(p_var, .0) for p_var in [.25, .50, .75]]  # for ambiguous conditions\n",
    "    pa_var = pa_risky + pa_ambig\n",
    "    \n",
    "    # Rewards\n",
    "    rewards = [(r_var, r_fix) for r_var in [5, 9.5, 18, 34, 65]\n",
    "                              for r_fix in [5]]\n",
    "\n",
    "    # Make unique design pairs in a 2d matrix\n",
    "    designs = [[p_var, a_var, r_var, r_fix] for (p_var, a_var) in pa_var\n",
    "                                            for (r_var, r_fix) in rewards]\n",
    "\n",
    "    designs = designs + designs  # Double the design pairs\n",
    "    np.random.shuffle(designs)  # Shuffle the pairs\n",
    "\n",
    "    return pd.DataFrame(designs, columns=['p_var', 'a_var', 'r_var', 'r_fix'])"
   ]
  },
  {
   "cell_type": "code",
   "execution_count": 16,
   "metadata": {
    "slideshow": {
     "slide_type": "subslide"
    }
   },
   "outputs": [
    {
     "data": {
      "text/html": [
       "<div>\n",
       "<style scoped>\n",
       "    .dataframe tbody tr th:only-of-type {\n",
       "        vertical-align: middle;\n",
       "    }\n",
       "\n",
       "    .dataframe tbody tr th {\n",
       "        vertical-align: top;\n",
       "    }\n",
       "\n",
       "    .dataframe thead th {\n",
       "        text-align: right;\n",
       "    }\n",
       "</style>\n",
       "<table border=\"1\" class=\"dataframe\">\n",
       "  <thead>\n",
       "    <tr style=\"text-align: right;\">\n",
       "      <th></th>\n",
       "      <th>p_var</th>\n",
       "      <th>a_var</th>\n",
       "      <th>r_var</th>\n",
       "      <th>r_fix</th>\n",
       "    </tr>\n",
       "  </thead>\n",
       "  <tbody>\n",
       "    <tr>\n",
       "      <th>0</th>\n",
       "      <td>0.5</td>\n",
       "      <td>0.25</td>\n",
       "      <td>18.0</td>\n",
       "      <td>5</td>\n",
       "    </tr>\n",
       "    <tr>\n",
       "      <th>1</th>\n",
       "      <td>0.5</td>\n",
       "      <td>0.13</td>\n",
       "      <td>9.5</td>\n",
       "      <td>5</td>\n",
       "    </tr>\n",
       "    <tr>\n",
       "      <th>2</th>\n",
       "      <td>0.5</td>\n",
       "      <td>0.25</td>\n",
       "      <td>9.5</td>\n",
       "      <td>5</td>\n",
       "    </tr>\n",
       "    <tr>\n",
       "      <th>3</th>\n",
       "      <td>0.5</td>\n",
       "      <td>0.25</td>\n",
       "      <td>65.0</td>\n",
       "      <td>5</td>\n",
       "    </tr>\n",
       "    <tr>\n",
       "      <th>4</th>\n",
       "      <td>0.5</td>\n",
       "      <td>0.00</td>\n",
       "      <td>5.0</td>\n",
       "      <td>5</td>\n",
       "    </tr>\n",
       "  </tbody>\n",
       "</table>\n",
       "</div>"
      ],
      "text/plain": [
       "   p_var  a_var  r_var  r_fix\n",
       "0    0.5   0.25   18.0      5\n",
       "1    0.5   0.13    9.5      5\n",
       "2    0.5   0.25    9.5      5\n",
       "3    0.5   0.25   65.0      5\n",
       "4    0.5   0.00    5.0      5"
      ]
     },
     "execution_count": 16,
     "metadata": {},
     "output_type": "execute_result"
    }
   ],
   "source": [
    "designs_fixed = generate_fixed_designs()\n",
    "designs_fixed.head()"
   ]
  },
  {
   "cell_type": "markdown",
   "metadata": {},
   "source": [
    "### Simulation"
   ]
  },
  {
   "cell_type": "code",
   "execution_count": 17,
   "metadata": {},
   "outputs": [],
   "source": [
    "# Make an empty DataFrame to store data\n",
    "df_simul = pd.DataFrame(\n",
    "    None, columns=['design_type', 'trial',\n",
    "                   'mean_alpha', 'mean_beta', 'mean_gamma',\n",
    "                   'sd_alpha', 'sd_beta', 'sd_gamma'])\n",
    "\n",
    "# Run simulations for three designs\n",
    "for design_type in ['optimal', 'staircase', 'random']:\n",
    "    # Reset the engine as an initial state\n",
    "    engine.reset()\n",
    "    \n",
    "    for i in range(N_TRIAL):\n",
    "        # Design selection / optimization\n",
    "        if design_type == 'optimal':\n",
    "            design = engine.get_design('optimal')\n",
    "        elif design_type == 'staircase':\n",
    "            design = designs_fixed.iloc[i, :]\n",
    "        else:  # design_type == 'random'\n",
    "            design = engine.get_design('random')\n",
    "        \n",
    "        # Experiment\n",
    "        response = get_simulated_response(design)\n",
    "        \n",
    "        # Bayesian updating\n",
    "        engine.update(design, response)\n",
    "\n",
    "        # Save the information for updated posteriors\n",
    "        df_simul = df_simul.append({\n",
    "            'design_type': design_type,\n",
    "            'trial': i + 1,\n",
    "            'mean_alpha': engine.post_mean[0],\n",
    "            'mean_beta': engine.post_mean[1],\n",
    "            'mean_gamma': engine.post_mean[2],\n",
    "            'sd_alpha': engine.post_sd[0],\n",
    "            'sd_beta': engine.post_sd[1],\n",
    "            'sd_gamma': engine.post_sd[2],\n",
    "        }, ignore_index=True)"
   ]
  },
  {
   "cell_type": "markdown",
   "metadata": {},
   "source": [
    "### Results"
   ]
  },
  {
   "cell_type": "code",
   "execution_count": 18,
   "metadata": {
    "slideshow": {
     "slide_type": "subslide"
    }
   },
   "outputs": [
    {
     "data": {
      "image/png": "[encoded data removed]",
      "text/plain": [
       "<Figure size 1080x288 with 3 Axes>"
      ]
     },
     "metadata": {
      "image/png": {
       "height": 278,
       "width": 880
      },
      "needs_background": "light"
     },
     "output_type": "display_data"
    }
   ],
   "source": [
    "%matplotlib inline\n",
    "%config InlineBackend.figure_format = 'retina'\n",
    "from matplotlib import pyplot as plt\n",
    "\n",
    "fig, ax = plt.subplots(1, 3, figsize = [15, 4])\n",
    "\n",
    "# Draw black dotted lines for true parameters\n",
    "for i, param in enumerate(['alpha', 'beta', 'gamma']):\n",
    "    ax[i].axhline(PARAM_TRUE[param], color='black', linestyle=':')\n",
    "\n",
    "for i, design_type in enumerate(['optimal', 'staircase', 'random']):\n",
    "    df_cond = df_simul.loc[df_simul['design_type'] == design_type]\n",
    "    line_color = ['blue', 'green', 'red'][i]\n",
    "    ax = df_cond.plot(x='trial', y=['mean_alpha', 'mean_beta', 'mean_gamma'], ax=ax,\n",
    "                      subplots=True, figsize=(15, 4), legend=False, color = line_color, alpha = 0.7)\n",
    "\n",
    "# Set titles and limits on y axes.\n",
    "ax[0].set_title('$\\\\alpha$ (Risk attitude)');        ax[0].set_ylim(0, 3)\n",
    "ax[1].set_title('$\\\\beta$ (Ambiguity attitude)');    ax[1].set_ylim(-3, 3)\n",
    "ax[2].set_title('$\\\\gamma$ (Inverse temperature)');  ax[2].set_ylim(0, 5)\n",
    "\n",
    "ax[0].legend(['True value', 'ADO', 'Fixed', 'Random'])\n",
    "ax[1].legend(['True value', 'ADO', 'Fixed', 'Random'])\n",
    "ax[2].legend(['True value', 'ADO', 'Fixed', 'Random'])\n",
    "\n",
    "plt.show()"
   ]
  },
  {
   "cell_type": "markdown",
   "metadata": {
    "slideshow": {
     "slide_type": "slide"
    }
   },
   "source": [
    "## References\n",
    "\n",
    "Levy, I., Snell, J., Nelson, A. J., Rustichini, A., & Glimcher, P. W. (2010). Neural Representation of Subjective Value Under Risk and Ambiguity. Journal of Neurophysiology, 103 (2), 1036-1047."
   ]
  }
 ],
 "metadata": {
  "celltoolbar": "Slideshow",
  "kernelspec": {
   "display_name": "Python 3",
   "language": "python",
   "name": "python3"
  },
  "language_info": {
   "codemirror_mode": {
    "name": "ipython",
    "version": 3
   },
   "file_extension": ".py",
   "mimetype": "text/x-python",
   "name": "python",
   "nbconvert_exporter": "python",
   "pygments_lexer": "ipython3",
   "version": "3.6.12"
  }
 },
 "nbformat": 4,
 "nbformat_minor": 4
}
